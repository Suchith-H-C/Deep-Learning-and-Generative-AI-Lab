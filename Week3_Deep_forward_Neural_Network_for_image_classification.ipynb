{
  "nbformat": 4,
  "nbformat_minor": 0,
  "metadata": {
    "colab": {
      "provenance": [],
      "include_colab_link": true
    },
    "kernelspec": {
      "name": "python3",
      "display_name": "Python 3"
    },
    "language_info": {
      "name": "python"
    }
  },
  "cells": [
    {
      "cell_type": "markdown",
      "metadata": {
        "id": "view-in-github",
        "colab_type": "text"
      },
      "source": [
        "<a href=\"https://colab.research.google.com/github/Suchith-H-C/Deep-Learning-and-Generative-AI-Lab/blob/main/Week3_Deep_forward_Neural_Network_for_image_classification.ipynb\" target=\"_parent\"><img src=\"https://colab.research.google.com/assets/colab-badge.svg\" alt=\"Open In Colab\"/></a>"
      ]
    },
    {
      "cell_type": "markdown",
      "source": [
        "**Week-3:** Design Deep forward Neural Network for image classification\n",
        "- Design and implement an Image classification model to classify a dataset of images using Deep\n",
        "   Feed Forward NN.\n",
        "- Use the MNIST datasets.\n",
        "- Record the accuracy corresponding to the number of epochs 5, 50, 100.\n",
        "- Repeat for CIFAR10 datasets. Note down the changes made and the accuracies obtained.\n"
      ],
      "metadata": {
        "id": "BdUIzGg4p7N5"
      }
    },
    {
      "cell_type": "markdown",
      "source": [
        "MNIST Dataset: https://www.kaggle.com/datasets/hojjatk/mnist-dataset"
      ],
      "metadata": {
        "id": "nYPA2tbqqdB6"
      }
    },
    {
      "cell_type": "markdown",
      "source": [
        "CIFAR10 and CIFAR100 Datasets(University of Toronto): https://www.cs.toronto.edu/~kriz/cifar.html"
      ],
      "metadata": {
        "id": "GQV-U7l8qmfB"
      }
    },
    {
      "cell_type": "markdown",
      "source": [
        "CIFAR10 Dataset (Kaggle): https://www.kaggle.com/c/cifar-10/"
      ],
      "metadata": {
        "id": "3W-4d5S2qqoh"
      }
    },
    {
      "cell_type": "markdown",
      "source": [
        "Fashion MNIST Dataset(Kaggle): https://www.kaggle.com/datasets/zalando-research/fashionmnist"
      ],
      "metadata": {
        "id": "2-Ftlv3dsnD5"
      }
    },
    {
      "cell_type": "code",
      "execution_count": 2,
      "metadata": {
        "id": "gatCpdstp20t",
        "colab": {
          "base_uri": "https://localhost:8080/",
          "height": 1000
        },
        "outputId": "221426fa-44bb-4add-bfa0-ee8fa9dd56bb"
      },
      "outputs": [
        {
          "output_type": "stream",
          "name": "stdout",
          "text": [
            "Downloading data from https://storage.googleapis.com/tensorflow/tf-keras-datasets/mnist.npz\n",
            "\u001b[1m11490434/11490434\u001b[0m \u001b[32m━━━━━━━━━━━━━━━━━━━━\u001b[0m\u001b[37m\u001b[0m \u001b[1m0s\u001b[0m 0us/step\n",
            "Shape of X_train:  (60000, 28, 28)\n",
            "Shape of y_train:  (60000,)\n",
            "Shape of X_test:  (10000, 28, 28)\n",
            "Shape of y_test:  (10000,)\n"
          ]
        },
        {
          "output_type": "display_data",
          "data": {
            "text/plain": [
              "<Figure size 1200x600 with 10 Axes>"
            ],
            "image/png": "[encoded data removed]"
          },
          "metadata": {}
        },
        {
          "output_type": "stream",
          "name": "stdout",
          "text": [
            "New shape of X_train:  (60000, 784)\n",
            "New shape of X_test:  (10000, 784)\n",
            "Epoch 1/5\n",
            "\u001b[1m4800/4800\u001b[0m \u001b[32m━━━━━━━━━━━━━━━━━━━━\u001b[0m\u001b[37m\u001b[0m \u001b[1m24s\u001b[0m 5ms/step - accuracy: 0.8798 - loss: 0.3937 - val_accuracy: 0.9576 - val_loss: 0.1475\n",
            "Epoch 2/5\n",
            "\u001b[1m4800/4800\u001b[0m \u001b[32m━━━━━━━━━━━━━━━━━━━━\u001b[0m\u001b[37m\u001b[0m \u001b[1m21s\u001b[0m 4ms/step - accuracy: 0.9633 - loss: 0.1218 - val_accuracy: 0.9653 - val_loss: 0.1224\n",
            "Epoch 3/5\n",
            "\u001b[1m4800/4800\u001b[0m \u001b[32m━━━━━━━━━━━━━━━━━━━━\u001b[0m\u001b[37m\u001b[0m \u001b[1m42s\u001b[0m 5ms/step - accuracy: 0.9737 - loss: 0.0827 - val_accuracy: 0.9732 - val_loss: 0.0951\n",
            "Epoch 4/5\n",
            "\u001b[1m4800/4800\u001b[0m \u001b[32m━━━━━━━━━━━━━━━━━━━━\u001b[0m\u001b[37m\u001b[0m \u001b[1m24s\u001b[0m 5ms/step - accuracy: 0.9788 - loss: 0.0629 - val_accuracy: 0.9693 - val_loss: 0.1016\n",
            "Epoch 5/5\n",
            "\u001b[1m4800/4800\u001b[0m \u001b[32m━━━━━━━━━━━━━━━━━━━━\u001b[0m\u001b[37m\u001b[0m \u001b[1m41s\u001b[0m 5ms/step - accuracy: 0.9841 - loss: 0.0498 - val_accuracy: 0.9695 - val_loss: 0.1175\n",
            "\u001b[1m1875/1875\u001b[0m \u001b[32m━━━━━━━━━━━━━━━━━━━━\u001b[0m\u001b[37m\u001b[0m \u001b[1m4s\u001b[0m 2ms/step\n",
            "\u001b[1m313/313\u001b[0m \u001b[32m━━━━━━━━━━━━━━━━━━━━\u001b[0m\u001b[37m\u001b[0m \u001b[1m1s\u001b[0m 2ms/step\n",
            "\n",
            "Model Summary:\n"
          ]
        },
        {
          "output_type": "display_data",
          "data": {
            "text/plain": [
              "\u001b[1mModel: \"DFF-Model\"\u001b[0m\n"
            ],
            "text/html": [
              "<pre style=\"white-space:pre;overflow-x:auto;line-height:normal;font-family:Menlo,'DejaVu Sans Mono',consolas,'Courier New',monospace\"><span style=\"font-weight: bold\">Model: \"DFF-Model\"</span>\n",
              "</pre>\n"
            ]
          },
          "metadata": {}
        },
        {
          "output_type": "display_data",
          "data": {
            "text/plain": [
              "┏━━━━━━━━━━━━━━━━━━━━━━━━━━━━━━━━━┳━━━━━━━━━━━━━━━━━━━━━━━━┳━━━━━━━━━━━━━━━┓\n",
              "┃\u001b[1m \u001b[0m\u001b[1mLayer (type)                   \u001b[0m\u001b[1m \u001b[0m┃\u001b[1m \u001b[0m\u001b[1mOutput Shape          \u001b[0m\u001b[1m \u001b[0m┃\u001b[1m \u001b[0m\u001b[1m      Param #\u001b[0m\u001b[1m \u001b[0m┃\n",
              "┡━━━━━━━━━━━━━━━━━━━━━━━━━━━━━━━━━╇━━━━━━━━━━━━━━━━━━━━━━━━╇━━━━━━━━━━━━━━━┩\n",
              "│ Hidden-Layer-1 (\u001b[38;5;33mDense\u001b[0m)          │ (\u001b[38;5;45mNone\u001b[0m, \u001b[38;5;34m128\u001b[0m)            │       \u001b[38;5;34m100,480\u001b[0m │\n",
              "├─────────────────────────────────┼────────────────────────┼───────────────┤\n",
              "│ Hidden-Layer-2 (\u001b[38;5;33mDense\u001b[0m)          │ (\u001b[38;5;45mNone\u001b[0m, \u001b[38;5;34m64\u001b[0m)             │         \u001b[38;5;34m8,256\u001b[0m │\n",
              "├─────────────────────────────────┼────────────────────────┼───────────────┤\n",
              "│ Hidden-Layer-3 (\u001b[38;5;33mDense\u001b[0m)          │ (\u001b[38;5;45mNone\u001b[0m, \u001b[38;5;34m32\u001b[0m)             │         \u001b[38;5;34m2,080\u001b[0m │\n",
              "├─────────────────────────────────┼────────────────────────┼───────────────┤\n",
              "│ Output-Layer (\u001b[38;5;33mDense\u001b[0m)            │ (\u001b[38;5;45mNone\u001b[0m, \u001b[38;5;34m10\u001b[0m)             │           \u001b[38;5;34m330\u001b[0m │\n",
              "└─────────────────────────────────┴────────────────────────┴───────────────┘\n"
            ],
            "text/html": [
              "<pre style=\"white-space:pre;overflow-x:auto;line-height:normal;font-family:Menlo,'DejaVu Sans Mono',consolas,'Courier New',monospace\">┏━━━━━━━━━━━━━━━━━━━━━━━━━━━━━━━━━┳━━━━━━━━━━━━━━━━━━━━━━━━┳━━━━━━━━━━━━━━━┓\n",
              "┃<span style=\"font-weight: bold\"> Layer (type)                    </span>┃<span style=\"font-weight: bold\"> Output Shape           </span>┃<span style=\"font-weight: bold\">       Param # </span>┃\n",
              "┡━━━━━━━━━━━━━━━━━━━━━━━━━━━━━━━━━╇━━━━━━━━━━━━━━━━━━━━━━━━╇━━━━━━━━━━━━━━━┩\n",
              "│ Hidden-Layer-1 (<span style=\"color: #0087ff; text-decoration-color: #0087ff\">Dense</span>)          │ (<span style=\"color: #00d7ff; text-decoration-color: #00d7ff\">None</span>, <span style=\"color: #00af00; text-decoration-color: #00af00\">128</span>)            │       <span style=\"color: #00af00; text-decoration-color: #00af00\">100,480</span> │\n",
              "├─────────────────────────────────┼────────────────────────┼───────────────┤\n",
              "│ Hidden-Layer-2 (<span style=\"color: #0087ff; text-decoration-color: #0087ff\">Dense</span>)          │ (<span style=\"color: #00d7ff; text-decoration-color: #00d7ff\">None</span>, <span style=\"color: #00af00; text-decoration-color: #00af00\">64</span>)             │         <span style=\"color: #00af00; text-decoration-color: #00af00\">8,256</span> │\n",
              "├─────────────────────────────────┼────────────────────────┼───────────────┤\n",
              "│ Hidden-Layer-3 (<span style=\"color: #0087ff; text-decoration-color: #0087ff\">Dense</span>)          │ (<span style=\"color: #00d7ff; text-decoration-color: #00d7ff\">None</span>, <span style=\"color: #00af00; text-decoration-color: #00af00\">32</span>)             │         <span style=\"color: #00af00; text-decoration-color: #00af00\">2,080</span> │\n",
              "├─────────────────────────────────┼────────────────────────┼───────────────┤\n",
              "│ Output-Layer (<span style=\"color: #0087ff; text-decoration-color: #0087ff\">Dense</span>)            │ (<span style=\"color: #00d7ff; text-decoration-color: #00d7ff\">None</span>, <span style=\"color: #00af00; text-decoration-color: #00af00\">10</span>)             │           <span style=\"color: #00af00; text-decoration-color: #00af00\">330</span> │\n",
              "└─────────────────────────────────┴────────────────────────┴───────────────┘\n",
              "</pre>\n"
            ]
          },
          "metadata": {}
        },
        {
          "output_type": "display_data",
          "data": {
            "text/plain": [
              "\u001b[1m Total params: \u001b[0m\u001b[38;5;34m333,440\u001b[0m (1.27 MB)\n"
            ],
            "text/html": [
              "<pre style=\"white-space:pre;overflow-x:auto;line-height:normal;font-family:Menlo,'DejaVu Sans Mono',consolas,'Courier New',monospace\"><span style=\"font-weight: bold\"> Total params: </span><span style=\"color: #00af00; text-decoration-color: #00af00\">333,440</span> (1.27 MB)\n",
              "</pre>\n"
            ]
          },
          "metadata": {}
        },
        {
          "output_type": "display_data",
          "data": {
            "text/plain": [
              "\u001b[1m Trainable params: \u001b[0m\u001b[38;5;34m111,146\u001b[0m (434.16 KB)\n"
            ],
            "text/html": [
              "<pre style=\"white-space:pre;overflow-x:auto;line-height:normal;font-family:Menlo,'DejaVu Sans Mono',consolas,'Courier New',monospace\"><span style=\"font-weight: bold\"> Trainable params: </span><span style=\"color: #00af00; text-decoration-color: #00af00\">111,146</span> (434.16 KB)\n",
              "</pre>\n"
            ]
          },
          "metadata": {}
        },
        {
          "output_type": "display_data",
          "data": {
            "text/plain": [
              "\u001b[1m Non-trainable params: \u001b[0m\u001b[38;5;34m0\u001b[0m (0.00 B)\n"
            ],
            "text/html": [
              "<pre style=\"white-space:pre;overflow-x:auto;line-height:normal;font-family:Menlo,'DejaVu Sans Mono',consolas,'Courier New',monospace\"><span style=\"font-weight: bold\"> Non-trainable params: </span><span style=\"color: #00af00; text-decoration-color: #00af00\">0</span> (0.00 B)\n",
              "</pre>\n"
            ]
          },
          "metadata": {}
        },
        {
          "output_type": "display_data",
          "data": {
            "text/plain": [
              "\u001b[1m Optimizer params: \u001b[0m\u001b[38;5;34m222,294\u001b[0m (868.34 KB)\n"
            ],
            "text/html": [
              "<pre style=\"white-space:pre;overflow-x:auto;line-height:normal;font-family:Menlo,'DejaVu Sans Mono',consolas,'Courier New',monospace\"><span style=\"font-weight: bold\"> Optimizer params: </span><span style=\"color: #00af00; text-decoration-color: #00af00\">222,294</span> (868.34 KB)\n",
              "</pre>\n"
            ]
          },
          "metadata": {}
        },
        {
          "output_type": "stream",
          "name": "stdout",
          "text": [
            "\n",
            "---------- Evaluation on Training Data -----------\n",
            "              precision    recall  f1-score   support\n",
            "\n",
            "           0       0.99      0.99      0.99      5923\n",
            "           1       0.99      0.99      0.99      6742\n",
            "           2       0.99      0.97      0.98      5958\n",
            "           3       0.98      0.97      0.98      6131\n",
            "           4       0.97      0.99      0.98      5842\n",
            "           5       0.99      0.96      0.98      5421\n",
            "           6       0.98      0.99      0.99      5918\n",
            "           7       0.99      0.98      0.99      6265\n",
            "           8       0.94      0.98      0.96      5851\n",
            "           9       0.98      0.97      0.97      5949\n",
            "\n",
            "    accuracy                           0.98     60000\n",
            "   macro avg       0.98      0.98      0.98     60000\n",
            "weighted avg       0.98      0.98      0.98     60000\n",
            "\n",
            "\n",
            "---------- Evaluation on Test Data -----------\n",
            "              precision    recall  f1-score   support\n",
            "\n",
            "           0       0.98      0.99      0.98       980\n",
            "           1       0.99      0.99      0.99      1135\n",
            "           2       0.98      0.94      0.96      1032\n",
            "           3       0.96      0.97      0.96      1010\n",
            "           4       0.96      0.98      0.97       982\n",
            "           5       0.99      0.94      0.96       892\n",
            "           6       0.98      0.98      0.98       958\n",
            "           7       0.98      0.95      0.97      1028\n",
            "           8       0.91      0.98      0.94       974\n",
            "           9       0.97      0.95      0.96      1009\n",
            "\n",
            "    accuracy                           0.97     10000\n",
            "   macro avg       0.97      0.97      0.97     10000\n",
            "weighted avg       0.97      0.97      0.97     10000\n",
            "\n",
            "\n"
          ]
        }
      ],
      "source": [
        "# Load required packages\n",
        "import tensorflow as tf\n",
        "from tensorflow import keras\n",
        "from keras.models import Sequential\n",
        "from keras.layers import Dense, Input\n",
        "import pandas as pd\n",
        "import numpy as np\n",
        "import sklearn\n",
        "from sklearn.metrics import classification_report\n",
        "import matplotlib.pyplot as plt\n",
        "\n",
        "# Load digits data\n",
        "(X_train, y_train), (X_test, y_test) = keras.datasets.mnist.load_data()\n",
        "\n",
        "# Print shapes\n",
        "print(\"Shape of X_train: \", X_train.shape)\n",
        "print(\"Shape of y_train: \", y_train.shape)\n",
        "print(\"Shape of X_test: \", X_test.shape)\n",
        "print(\"Shape of y_test: \", y_test.shape)\n",
        "\n",
        "# Display images of the first 10 digits in the training set and their true labels\n",
        "fig, axs = plt.subplots(2, 5, sharey=False, tight_layout=True, figsize=(12, 6), facecolor='white')\n",
        "n = 0\n",
        "for i in range(0, 2):\n",
        "    for j in range(0, 5):\n",
        "        axs[i, j].matshow(X_train[n])\n",
        "        axs[i, j].set(title=str(y_train[n]))\n",
        "        axs[i, j].axis('off')  # Hide axis\n",
        "        n += 1\n",
        "plt.show()\n",
        "\n",
        "# Reshape and normalize (divide by 255) input data\n",
        "X_train = X_train.reshape(60000, 784).astype(\"float32\") / 255\n",
        "X_test = X_test.reshape(10000, 784).astype(\"float32\") / 255\n",
        "\n",
        "# Print shapes after reshaping\n",
        "print(\"New shape of X_train: \", X_train.shape)\n",
        "print(\"New shape of X_test: \", X_test.shape)\n",
        "\n",
        "# Design the Deep Feed-Forward Neural Network architecture\n",
        "model = Sequential(name=\"DFF-Model\")  # Model\n",
        "model.add(Input(shape=(784,), name='Input-Layer'))  # Input Layer - need to specify the shape of inputs\n",
        "model.add(Dense(128, activation='relu', name='Hidden-Layer-1', kernel_initializer='HeNormal'))\n",
        "model.add(Dense(64, activation='relu', name='Hidden-Layer-2', kernel_initializer='HeNormal'))\n",
        "model.add(Dense(32, activation='relu', name='Hidden-Layer-3', kernel_initializer='HeNormal'))\n",
        "model.add(Dense(10, activation='softmax', name='Output-Layer'))\n",
        "\n",
        "# Compile keras model\n",
        "model.compile(optimizer='adam',\n",
        "              loss='SparseCategoricalCrossentropy',\n",
        "              metrics=['accuracy'])\n",
        "\n",
        "# Fit keras model on the dataset\n",
        "model.fit(X_train, y_train, batch_size=10, epochs=5, verbose=1,\n",
        "          validation_split=0.2, shuffle=True)\n",
        "\n",
        "# Apply the trained model to make predictions\n",
        "# Predict class labels on training data\n",
        "pred_labels_tr = np.array(tf.math.argmax(model.predict(X_train), axis=1))\n",
        "\n",
        "# Predict class labels on test data\n",
        "pred_labels_te = np.array(tf.math.argmax(model.predict(X_test), axis=1))\n",
        "\n",
        "# Model Performance Summary\n",
        "print(\"\\nModel Summary:\")\n",
        "model.summary()\n",
        "print(\"\")\n",
        "\n",
        "# Evaluate model performance on training and test data\n",
        "print('---------- Evaluation on Training Data -----------')\n",
        "print(classification_report(y_train, pred_labels_tr))\n",
        "print(\"\")\n",
        "print('---------- Evaluation on Test Data -----------')\n",
        "print(classification_report(y_test, pred_labels_te))\n",
        "print(\"\")\n"
      ]
    },
    {
      "cell_type": "markdown",
      "source": [
        "To-Do:\n",
        "Use the MNIST datasets.\n",
        "\n",
        "Use the CIFAR10 datasets.\n",
        "\n",
        "*Record the accuracy corresponding to the number of epochs 5, 50, 100.\n",
        "\n",
        "*Repeat for CIFAR10 datasets. Note down the changes made and the accuracies obtained.\n",
        "\n",
        "*Use the Fashion MNIST Dataset\n",
        "\n",
        "*Perform and Plot the Comparative Analysis.\n"
      ],
      "metadata": {
        "id": "N-Vs541Lq-Gh"
      }
    },
    {
      "cell_type": "code",
      "source": [],
      "metadata": {
        "id": "h7I5F8tTsC8w"
      },
      "execution_count": null,
      "outputs": []
    }
  ]
}